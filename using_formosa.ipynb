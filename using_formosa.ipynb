{
 "cells": [
  {
   "cell_type": "markdown",
   "metadata": {},
   "source": [
    "# Using formosa"
   ]
  },
  {
   "cell_type": "markdown",
   "metadata": {},
   "source": [
    "In this notebook we'll explore MaxEnt motif modeling with formosa."
   ]
  },
  {
   "cell_type": "markdown",
   "metadata": {},
   "source": [
    "First, import the basic motif sampling functions from the formosa library:"
   ]
  },
  {
   "cell_type": "code",
   "execution_count": 26,
   "metadata": {
    "collapsed": true
   },
   "outputs": [],
   "source": [
    "from formosa import maxent_motifs, uniform_motifs, motif_ic"
   ]
  },
  {
   "cell_type": "markdown",
   "metadata": {},
   "source": [
    "The first two are for sampling; the third is for measuring the motif IC in order to validate our results.  Let's also set up plotting for our notebook:"
   ]
  },
  {
   "cell_type": "code",
   "execution_count": 27,
   "metadata": {
    "collapsed": true
   },
   "outputs": [],
   "source": [
    "%matplotlib inline\n",
    "from matplotlib import pyplot as plt"
   ]
  },
  {
   "cell_type": "markdown",
   "metadata": {},
   "source": [
    "We'll also set the random seed for reproducibility:"
   ]
  },
  {
   "cell_type": "code",
   "execution_count": 28,
   "metadata": {
    "collapsed": true
   },
   "outputs": [],
   "source": [
    "import random\n",
    "random.seed(1)"
   ]
  },
  {
   "cell_type": "markdown",
   "metadata": {},
   "source": [
    "## MaxEnt Sampling"
   ]
  },
  {
   "cell_type": "markdown",
   "metadata": {},
   "source": [
    "Now suppose we'd like to sample decamer motifs, each consisting of 20 sites, such that the average IC is 10 bits.  Let's say we'd like 100000 of them.  Formally speaking, we sample them from the maximum entropy (MaxEnt) distribution over all motifs of dimensions (L=10, N=20) so that mean IC is 10 bits.  We can call the maxent_motifs function this way:"
   ]
  },
  {
   "cell_type": "code",
   "execution_count": 33,
   "metadata": {
    "collapsed": false
   },
   "outputs": [
    {
     "name": "stdout",
     "output_type": "stream",
     "text": []
    }
   ],
   "source": [
    "maxent_samples = maxent_motifs(N=20, L=10, desired_ic=10, num_motifs=100000)"
   ]
  },
  {
   "cell_type": "markdown",
   "metadata": {},
   "source": [
    "Now let's check our samples:"
   ]
  },
  {
   "cell_type": "code",
   "execution_count": 34,
   "metadata": {
    "collapsed": false
   },
   "outputs": [
    {
     "data": {
      "text/plain": [
       "<matplotlib.text.Text at 0x7fb4b516b350>"
      ]
     },
     "execution_count": 34,
     "metadata": {},
     "output_type": "execute_result"
    },
    {
     "data": {
      "image/png": "[encoded data removed]",
      "text/plain": [
       "<matplotlib.figure.Figure at 0x7fb4af5ede10>"
      ]
     },
     "metadata": {},
     "output_type": "display_data"
    }
   ],
   "source": [
    "maxent_ics = map(motif_ic, maxent_samples)\n",
    "_ = plt.hist(maxent_ics,bins=100)\n",
    "plt.xlabel(\"Motif IC for MaxEnt Samples\")"
   ]
  },
  {
   "cell_type": "markdown",
   "metadata": {},
   "source": [
    "The distribution of sampled motif ICs appears to be approximately normal, centered at 10 bits.  If we are willing to trust the assumption of normality, we can check the mean with a quick confidence interval:"
   ]
  },
  {
   "cell_type": "code",
   "execution_count": 36,
   "metadata": {
    "collapsed": false
   },
   "outputs": [
    {
     "name": "stdout",
     "output_type": "stream",
     "text": [
      "sample mean: 10.002 bits\n",
      "95% confidence interval for mean: (9.971, 10.032) (bits)\n"
     ]
    }
   ],
   "source": [
    "from formosa_utils import mean, sd\n",
    "from math import sqrt\n",
    "mu, sigma = mean(maxent_ics), sd(maxent_ics)\n",
    "coverage = 1.96 * sigma/sqrt(10000)\n",
    "print \"sample mean: %1.3f bits\" % mu\n",
    "print \"95%% confidence interval for mean: (%1.3f, %1.3f) (bits)\" % (mu - coverage, mu + coverage)"
   ]
  },
  {
   "cell_type": "code",
   "execution_count": null,
   "metadata": {
    "collapsed": true
   },
   "outputs": [],
   "source": [
    "So our mean IC appears to be exactly on target."
   ]
  },
  {
   "cell_type": "markdown",
   "metadata": {},
   "source": [
    "## Truncated Uniform Sampling"
   ]
  },
  {
   "cell_type": "markdown",
   "metadata": {},
   "source": [
    "In our MaxEnt samples we saw that the average IC was exactly what we asked for.  Some motifs, however, had substantially more or less than 10 bits of IC.  For some applications this is a desirable property, but for others it may be more convenient to be able to restrict the samples to a given IC interval.  For these applications we defined the truncated uniform (TU) distribution, which assigns equal probability to mass to all motifs of given dimension having IC I +/- epsilon, for desired IC I and tolerance epsilon.  We can sample them with the uniform_motifs function like this:"
   ]
  },
  {
   "cell_type": "code",
   "execution_count": 38,
   "metadata": {
    "collapsed": false
   },
   "outputs": [
    {
     "name": "stdout",
     "output_type": "stream",
     "text": []
    }
   ],
   "source": [
    "tu_samples = uniform_motifs(N=20, L=10, desired_ic=10, epsilon=0.1, num_motifs=10000)"
   ]
  },
  {
   "cell_type": "markdown",
   "metadata": {},
   "source": [
    "Notice that the TU sampler can sometimes be much slower than the MaxEnt sampler.  This is because the TU sampler implements a rejection sampling algorithm with a MaxEnt sampler as the proposal distribution.  It must exclude all motifs falling outside the desired IC interval. It must also reject some motifs which fall _inside_ it in order to yield a statistically exact sample from the set of all motifs with acceptable IC.  Let's check the results:"
   ]
  },
  {
   "cell_type": "code",
   "execution_count": 39,
   "metadata": {
    "collapsed": false
   },
   "outputs": [
    {
     "data": {
      "text/plain": [
       "<matplotlib.text.Text at 0x7fb4a8b5ed90>"
      ]
     },
     "execution_count": 39,
     "metadata": {},
     "output_type": "execute_result"
    },
    {
     "data": {
      "image/png": "[encoded data removed]",
      "text/plain": [
       "<matplotlib.figure.Figure at 0x7fb4af85b6d0>"
      ]
     },
     "metadata": {},
     "output_type": "display_data"
    }
   ],
   "source": [
    "tu_ics = map(motif_ic, tu_samples)\n",
    "_ = plt.hist(tu_ics,bins=100)\n",
    "plt.xlabel(\"Motif IC for TU Samples\")"
   ]
  },
  {
   "cell_type": "markdown",
   "metadata": {},
   "source": [
    "Notice that, in contrast to the MaxEnt samples, the distribution of the TU motif ICs appears to be approximately exponentially distributed over the permissible range of 9.9 to 10.1 bits.  This is expected behavior; a distribution that assigns equal probability mass to all motifs with IC between 9.9 and 10.1 bits will appear to be biased towards low IC values simply because there exist more motifs on the low end than on the high end.  Users should bear this phenomenon in mind when sampling from TU distributions."
   ]
  },
  {
   "cell_type": "markdown",
   "metadata": {},
   "source": [
    "# Convenience functions: Motif Spoofing"
   ]
  },
  {
   "cell_type": "markdown",
   "metadata": {},
   "source": [
    "One common workflow is to begin with a biological motif of interest, estimate its motif IC, then generate a set of synthetic replicates for comparison by parametric bootstrapping.  We refer to this operation as \"spoofing\" for short: given the observed data, we spoof it with a set of synthetic motifs of the same dimensions and same (average or approximate) IC.  We can then compare the statistics of the biological motif to the distribution of those statistics observed in the synthetic replicates.  \n",
    "\n",
    "Spoofing is accommodated through a set of convenience functions in formosa, which we import below:"
   ]
  },
  {
   "cell_type": "code",
   "execution_count": 45,
   "metadata": {
    "collapsed": true
   },
   "outputs": [],
   "source": [
    "from formosa import spoof_maxent_motifs, spoof_uniform_motifs"
   ]
  },
  {
   "cell_type": "markdown",
   "metadata": {},
   "source": [
    "For our motif of interest, let's consider the collection of LacI binding sites treated by Berg and von Hippel:"
   ]
  },
  {
   "cell_type": "code",
   "execution_count": 43,
   "metadata": {
    "collapsed": false
   },
   "outputs": [],
   "source": [
    "lacI_motif = [\"CTATCACCGGAAGGGATTA\",\n",
    "              \"CTAACACCGTGCGTGTTGA\",\n",
    "              \"TTACCTCTGGCGGTGATAA\",\n",
    "              \"ATACCACTGGCGGTGATAC\",\n",
    "              \"TTATCTCTGGCGGTGTTGA\",\n",
    "              \"TAACCATCTGCGGTGATAA\"]"
   ]
  },
  {
   "cell_type": "markdown",
   "metadata": {},
   "source": [
    "To generate synthetic controls we can call:"
   ]
  },
  {
   "cell_type": "code",
   "execution_count": 46,
   "metadata": {
    "collapsed": false
   },
   "outputs": [
    {
     "name": "stdout",
     "output_type": "stream",
     "text": []
    }
   ],
   "source": [
    "lacI_spoofs = spoof_maxent_motifs(lacI_motif, num_motifs=10000)"
   ]
  },
  {
   "cell_type": "code",
   "execution_count": 50,
   "metadata": {
    "collapsed": false
   },
   "outputs": [
    {
     "data": {
      "text/plain": [
       "<matplotlib.legend.Legend at 0x7fb4a7c6a7d0>"
      ]
     },
     "execution_count": 50,
     "metadata": {},
     "output_type": "execute_result"
    },
    {
     "data": {
      "image/png": "[encoded data removed]",
      "text/plain": [
       "<matplotlib.figure.Figure at 0x7fb4a7ce0990>"
      ]
     },
     "metadata": {},
     "output_type": "display_data"
    }
   ],
   "source": [
    "lacI_ic = motif_ic(lacI_motif)\n",
    "lacI_spoof_ics = map(motif_ic, lacI_spoofs)\n",
    "_ = plt.hist(lacI_spoof_ics,bins=100,label=\"Replicate IC\")\n",
    "plt.plot([lacI_ic,lacI_ic],[0,500],linestyle='--',label=\"LacI motif IC\")\n",
    "plt.xlabel(\"Motif IC\")\n",
    "plt.legend()"
   ]
  },
  {
   "cell_type": "markdown",
   "metadata": {},
   "source": [
    "This indicates good agreement between the observed IC value and those of the replicates."
   ]
  }
 ],
 "metadata": {
  "kernelspec": {
   "display_name": "Python 2",
   "language": "python",
   "name": "python2"
  },
  "language_info": {
   "codemirror_mode": {
    "name": "ipython",
    "version": 2
   },
   "file_extension": ".py",
   "mimetype": "text/x-python",
   "name": "python",
   "nbconvert_exporter": "python",
   "pygments_lexer": "ipython2",
   "version": "2.7.6"
  }
 },
 "nbformat": 4,
 "nbformat_minor": 0
}
